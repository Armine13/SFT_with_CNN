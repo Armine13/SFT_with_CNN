{
 "cells": [
  {
   "cell_type": "code",
   "execution_count": 13,
   "metadata": {
    "collapsed": false,
    "deletable": true,
    "editable": true
   },
   "outputs": [],
   "source": [
    "import numpy as np\n",
    "#from scipy.misc import imread, imresize\n",
    "#from imagenet_classes import class_names\n",
    "import os\n",
    "from glob import glob1\n",
    "\n",
    "\n",
    "def getFileList(datapath):\n",
    "    file_names_csv = glob1(datapath ,\"*.csv\")\n",
    "    file_list_csv = [os.path.join(datapath, fname) for fname in file_names_csv]\n",
    "    file_list_png = [os.path.join(datapath, fname[:-3] + 'png') for fname in file_names_csv] #remove extension\n",
    "    return (file_list_png, file_list_csv)\n",
    "\n",
    "\n",
    "path = \"../output2\"\n",
    "\n",
    "_, flist = getFileList(path)\n",
    "for filename in flist:\n",
    "    f = open(filename, 'r+')\n",
    "    text = f.read()\n",
    "    text = text[:34]  +text[35:]\n",
    "#     print(text[:34], text[35:40])\n",
    "    f.seek(0)\n",
    "    f.write(text)\n",
    "    f.truncate()\n",
    "    f.close()"
   ]
  },
  {
   "cell_type": "code",
   "execution_count": 12,
   "metadata": {
    "collapsed": false,
    "deletable": true,
    "editable": true
   },
   "outputs": [
    {
     "data": {
      "text/plain": [
       "'/home/arvardaz/SFT_with_CNN/output/1488'"
      ]
     },
     "execution_count": 12,
     "metadata": {},
     "output_type": "execute_result"
    }
   ],
   "source": []
  },
  {
   "cell_type": "code",
   "execution_count": null,
   "metadata": {
    "collapsed": true
   },
   "outputs": [],
   "source": []
  }
 ],
 "metadata": {
  "kernelspec": {
   "display_name": "Python 2",
   "language": "python",
   "name": "python2"
  },
  "language_info": {
   "codemirror_mode": {
    "name": "ipython",
    "version": 2
   },
   "file_extension": ".py",
   "mimetype": "text/x-python",
   "name": "python",
   "nbconvert_exporter": "python",
   "pygments_lexer": "ipython2",
   "version": "2.7.13"
  }
 },
 "nbformat": 4,
 "nbformat_minor": 2
}
